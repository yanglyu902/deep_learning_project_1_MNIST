{
 "cells": [
  {
   "cell_type": "code",
   "execution_count": 1,
   "metadata": {},
   "outputs": [],
   "source": [
    "import numpy as np\n",
    "import matplotlib.pyplot as plt\n",
    "\n",
    "%matplotlib inline\n",
    "%config InlineBackend.figure_format = 'retina'"
   ]
  },
  {
   "cell_type": "code",
   "execution_count": 2,
   "metadata": {},
   "outputs": [
    {
     "data": {
      "text/plain": [
       "<Figure size 432x288 with 0 Axes>"
      ]
     },
     "metadata": {},
     "output_type": "display_data"
    }
   ],
   "source": [
    "plt.figure()\n",
    "plt.rcParams['figure.facecolor'] = 'white'\n",
    "plt.rcParams.update({'font.size': 12})\n",
    "plt.rc('axes', axisbelow=True)"
   ]
  },
  {
   "cell_type": "markdown",
   "metadata": {},
   "source": [
    "# 1. From Scatch"
   ]
  },
  {
   "cell_type": "markdown",
   "metadata": {},
   "source": [
    "### 1A. load data"
   ]
  },
  {
   "cell_type": "code",
   "execution_count": 3,
   "metadata": {},
   "outputs": [],
   "source": [
    "from pathlib import Path\n",
    "import requests"
   ]
  },
  {
   "cell_type": "code",
   "execution_count": 12,
   "metadata": {},
   "outputs": [],
   "source": [
    "# create dir: '/Users/yang/.../repo/mydata'\n",
    "DATA_PATH = Path('my_data')\n",
    "DATA_PATH.mkdir(exist_ok=True)\n",
    "\n",
    "URL = \"https://github.com/pytorch/tutorials/raw/master/_static/\"\n",
    "FILENAME = \"mnist.pkl.gz\"\n",
    "\n",
    "if not (DATA_PATH / FILENAME).exists():\n",
    "    content = requests.get(URL + FILENAME).content\n",
    "    (DATA_PATH/FILENAME).open('wb').write(content) # download to my own dir!"
   ]
  },
  {
   "cell_type": "code",
   "execution_count": 13,
   "metadata": {},
   "outputs": [],
   "source": [
    "import pickle \n",
    "import gzip"
   ]
  },
  {
   "cell_type": "code",
   "execution_count": 396,
   "metadata": {},
   "outputs": [
    {
     "name": "stdout",
     "output_type": "stream",
     "text": [
      "(50000, 784)\n"
     ]
    }
   ],
   "source": [
    "# load pickle file and assign to train/test data\n",
    "with gzip.open((DATA_PATH/FILENAME).as_posix(), 'rb') as f:\n",
    "    ((X_train, y_train), (X_val, y_val), _) = pickle.load(f, encoding='latin-1')\n",
    "print(X_train.shape)"
   ]
  },
  {
   "cell_type": "code",
   "execution_count": 397,
   "metadata": {},
   "outputs": [
    {
     "data": {
      "image/png": "[encoded data removed]",
      "text/plain": [
       "<Figure size 432x288 with 1 Axes>"
      ]
     },
     "metadata": {
      "image/png": {
       "height": 267,
       "width": 254
      }
     },
     "output_type": "display_data"
    }
   ],
   "source": [
    "# visualize one sample\n",
    "plt.imshow(X_train[0].reshape(28,28))\n",
    "plt.title('label: ' + str(y_train[0]))\n",
    "plt.show()"
   ]
  },
  {
   "cell_type": "code",
   "execution_count": 398,
   "metadata": {},
   "outputs": [
    {
     "name": "stdout",
     "output_type": "stream",
     "text": [
      "torch.Size([50000, 784])\n",
      "tensor([0., 1., 2., 3., 4., 5., 6., 7., 8., 9.])\n"
     ]
    }
   ],
   "source": [
    "import torch\n",
    "\n",
    "# convert nd array to torch.Tensor. map(func, iter) applies function to each item of iterable\n",
    "X_train, y_train, X_val, y_val = map(torch.Tensor, (X_train, y_train, X_val, y_val))\n",
    "print(X_train.shape)\n",
    "print(y_train.unique())"
   ]
  },
  {
   "cell_type": "markdown",
   "metadata": {},
   "source": [
    "### 1B. Build NN from scratch!"
   ]
  },
  {
   "cell_type": "code",
   "execution_count": 399,
   "metadata": {},
   "outputs": [],
   "source": [
    "# initialize weights with N(0,1)\n",
    "dim_feature = X_train.shape[1] # N feature\n",
    "n_out = 10 # 10 labels\n",
    "W = torch.randn(dim_feature, n_out) / np.sqrt(dim_feature) # xavier instantiation\n",
    "W.requires_grad = True # require grad here because we did a computation before; don't want that in gradient\n",
    "b = torch.zeros(n_out, requires_grad=True) # bias"
   ]
  },
  {
   "cell_type": "code",
   "execution_count": 400,
   "metadata": {},
   "outputs": [],
   "source": [
    "# SoftMax\n",
    "def log_softmax(x):\n",
    "    return x - x.exp().sum(-1).log().unsqueeze(-1) # sum(-1): sum along last dimension. unsqueeze: remain original shape\n",
    "\n",
    "# forward pass; returns prediction after softmax; dim = batch_size by 10. \n",
    "def model(x):\n",
    "    return log_softmax(x @ W + b)\n",
    "\n",
    "# accuracy\n",
    "def accuracy(preds, y_true):\n",
    "    preds = torch.argmax(preds, dim=1) # for each row, find idx of max value\n",
    "    return (preds == y_true).float().mean()"
   ]
  },
  {
   "cell_type": "code",
   "execution_count": 401,
   "metadata": {},
   "outputs": [
    {
     "name": "stdout",
     "output_type": "stream",
     "text": [
      "tensor([-2.8775, -2.1693, -2.9060, -2.0242, -2.6761, -2.1136, -1.6464, -2.0687,\n",
      "        -2.6672, -2.7406], grad_fn=<SelectBackward>)\n",
      "torch.Size([64, 10])\n",
      "torch.Size([64])\n"
     ]
    }
   ],
   "source": [
    "# run forward pass on a batch\n",
    "bs = 64 # batch size\n",
    "\n",
    "preds = model(X_train[0:bs])\n",
    "print(preds[0])\n",
    "print(preds.shape)\n",
    "\n",
    "# get true label\n",
    "yb = y_train[0:bs]\n",
    "print(yb.shape)"
   ]
  },
  {
   "cell_type": "code",
   "execution_count": 402,
   "metadata": {},
   "outputs": [
    {
     "name": "stdout",
     "output_type": "stream",
     "text": [
      "tensor(2.4007, grad_fn=<NegBackward>)\n",
      "tensor(0.0625)\n"
     ]
    }
   ],
   "source": [
    "# loss: find log(softmax) at indices where y_true is non-zero. Average over the batch. \n",
    "def loss_func(pred, true):\n",
    "    return -pred[range(true.shape[0]), np.array(true.int())].mean()\n",
    "\n",
    "# loss_func = nll\n",
    "print(loss_func(preds, yb))\n",
    "print(accuracy(preds, yb))"
   ]
  },
  {
   "cell_type": "markdown",
   "metadata": {},
   "source": [
    "### 1C. Training"
   ]
  },
  {
   "cell_type": "code",
   "execution_count": 403,
   "metadata": {},
   "outputs": [],
   "source": [
    "# train!\n",
    "\n",
    "bs = 64\n",
    "lr = 0.5\n",
    "epochs = 2\n",
    "n_tot = X_train.shape[0]\n",
    "for epoch in range(epochs):\n",
    "    for i in range((n_tot-1)//bs+1):\n",
    "        start_idx = i*bs\n",
    "        end_idx = (i+1)*bs\n",
    "        \n",
    "        xb = X_train[start_idx:end_idx]\n",
    "        yb = y_train[start_idx:end_idx]\n",
    "        \n",
    "        pred = model(xb)\n",
    "        loss = loss_func(pred, yb)\n",
    "\n",
    "        loss.backward()\n",
    "        with torch.no_grad(): # do not track grad from 'W -='\n",
    "            # do gradient descent\n",
    "            W -= lr*W.grad  # WARNING: must use 'W -=' for IN-PLACE calculation, not 'W = W - ...' \n",
    "            b -= lr*b.grad \n",
    "            W.grad.zero_()\n",
    "            b.grad.zero_()"
   ]
  },
  {
   "cell_type": "code",
   "execution_count": 404,
   "metadata": {},
   "outputs": [
    {
     "name": "stdout",
     "output_type": "stream",
     "text": [
      "tensor(0.0835, grad_fn=<NegBackward>) tensor(1.)\n"
     ]
    }
   ],
   "source": [
    "print(loss_func(model(X_train[start_idx:end_idx]), y_train_batch), accuracy(model(X_train[start_idx:end_idx]), y_train_batch))"
   ]
  },
  {
   "cell_type": "markdown",
   "metadata": {},
   "source": [
    "# 2. Refactor the code!"
   ]
  },
  {
   "cell_type": "markdown",
   "metadata": {},
   "source": [
    "### nn.functional"
   ]
  },
  {
   "cell_type": "code",
   "execution_count": 447,
   "metadata": {},
   "outputs": [],
   "source": [
    "import torch.nn.functional as F\n",
    "loss_func = F.cross_entropy\n",
    "y_train = y_train.type(torch.LongTensor) # some losses require LongTensor type\n",
    "yb = yb.type(torch.LongTensor)"
   ]
  },
  {
   "cell_type": "code",
   "execution_count": 448,
   "metadata": {},
   "outputs": [
    {
     "name": "stdout",
     "output_type": "stream",
     "text": [
      "tensor(0.0812, grad_fn=<NllLossBackward>) tensor(1.)\n"
     ]
    }
   ],
   "source": [
    "print(loss_func(model(xb), yb), accuracy(model(xb), yb))"
   ]
  },
  {
   "cell_type": "markdown",
   "metadata": {},
   "source": [
    "### nn.Module, nn.Parameter"
   ]
  },
  {
   "cell_type": "code",
   "execution_count": 449,
   "metadata": {},
   "outputs": [],
   "source": [
    "from torch import nn\n",
    "\n",
    "class mnist_model(nn.Module):\n",
    "    def __init__(self):\n",
    "        super().__init__()\n",
    "        self.W = nn.Parameter(torch.randn(784, 10)/np.sqrt(n_tot))\n",
    "        self.b = nn.Parameter(torch.zeros(10))\n",
    "        \n",
    "    def forward(self, x):\n",
    "        return x @ self.W + self.b\n",
    "\n",
    "# instantiation\n",
    "model = mnist_model()"
   ]
  },
  {
   "cell_type": "code",
   "execution_count": 450,
   "metadata": {},
   "outputs": [
    {
     "data": {
      "text/plain": [
       "torch.Size([50000, 784])"
      ]
     },
     "execution_count": 450,
     "metadata": {},
     "output_type": "execute_result"
    }
   ],
   "source": [
    "X_train.shape"
   ]
  },
  {
   "cell_type": "code",
   "execution_count": 451,
   "metadata": {},
   "outputs": [
    {
     "data": {
      "text/plain": [
       "tensor(2.3071, grad_fn=<NllLossBackward>)"
      ]
     },
     "execution_count": 451,
     "metadata": {},
     "output_type": "execute_result"
    }
   ],
   "source": [
    "# when caling model(X_train), X is automatically passed to the forward layer and returned\n",
    "loss_func(model(X_train[:1000]), y_train[:1000])"
   ]
  },
  {
   "cell_type": "code",
   "execution_count": 452,
   "metadata": {},
   "outputs": [],
   "source": [
    "def train():\n",
    "    for epoch in range(epochs):\n",
    "        for i in range((n_tot-1)//bs+1):\n",
    "            start = i * bs\n",
    "            end = (i+1)*bs\n",
    "            xb = X_train[start:end]\n",
    "            yb = y_train[start:end]\n",
    "            \n",
    "            pred = model(xb)\n",
    "            loss = loss_func(pred, yb)\n",
    "            \n",
    "            loss.backward()\n",
    "            with torch.no_grad():\n",
    "                for param in model.parameters():\n",
    "                    param -= lr * param.grad\n",
    "                model.zero_grad()"
   ]
  },
  {
   "cell_type": "code",
   "execution_count": 453,
   "metadata": {},
   "outputs": [],
   "source": [
    "train()"
   ]
  },
  {
   "cell_type": "code",
   "execution_count": 454,
   "metadata": {},
   "outputs": [
    {
     "name": "stdout",
     "output_type": "stream",
     "text": [
      "tensor(0.3206, grad_fn=<NegBackward>)\n"
     ]
    }
   ],
   "source": [
    "print(loss)"
   ]
  },
  {
   "cell_type": "markdown",
   "metadata": {},
   "source": [
    "### nn.Linear"
   ]
  },
  {
   "cell_type": "code",
   "execution_count": 463,
   "metadata": {},
   "outputs": [],
   "source": [
    "# could replace x @ W + b by a linear layer from torch.nn!\n",
    "\n",
    "class model_mnist(nn.Module):\n",
    "    def __init__(self):\n",
    "        super().__init__()\n",
    "        self.lin = nn.Linear(784, 10)\n",
    "        \n",
    "    def forward(self, x):\n",
    "        return self.lin(x)\n",
    "    \n",
    "model = model_mnist()"
   ]
  },
  {
   "cell_type": "code",
   "execution_count": 465,
   "metadata": {},
   "outputs": [
    {
     "data": {
      "text/plain": [
       "tensor(2.2930, grad_fn=<NllLossBackward>)"
      ]
     },
     "execution_count": 465,
     "metadata": {},
     "output_type": "execute_result"
    }
   ],
   "source": [
    "loss_func(model(X_train[:1000]), y_train[:1000])"
   ]
  },
  {
   "cell_type": "code",
   "execution_count": 473,
   "metadata": {},
   "outputs": [
    {
     "data": {
      "text/plain": [
       "tensor(0.2864, grad_fn=<NllLossBackward>)"
      ]
     },
     "execution_count": 473,
     "metadata": {},
     "output_type": "execute_result"
    }
   ],
   "source": [
    "train()\n",
    "loss_func(model(X_train[:1000]), y_train[:1000])"
   ]
  },
  {
   "cell_type": "markdown",
   "metadata": {},
   "source": [
    "### nn.optim"
   ]
  },
  {
   "cell_type": "code",
   "execution_count": 471,
   "metadata": {},
   "outputs": [
    {
     "name": "stdout",
     "output_type": "stream",
     "text": [
      "tensor(0.0818, grad_fn=<NllLossBackward>)\n"
     ]
    }
   ],
   "source": [
    "# could replace the gradient-updating step by optim.step()!\n",
    "from torch import optim\n",
    "\n",
    "model = model_mnist()\n",
    "opt = optim.SGD(params=model.parameters(), lr=0.5)\n",
    "\n",
    "for epoch in range(epochs):\n",
    "    for i in range((n_tot - 1) // bs + 1):\n",
    "        start_i = i * bs\n",
    "        end_i = start_i + bs\n",
    "        xb = X_train[start_i:end_i]\n",
    "        yb = y_train[start_i:end_i]\n",
    "        pred = model(xb)\n",
    "        loss = loss_func(pred, yb)\n",
    "\n",
    "        loss.backward()\n",
    "        \n",
    "        opt.step()\n",
    "        opt.zero_grad()\n",
    "\n",
    "print(loss_func(model(xb), yb))"
   ]
  },
  {
   "cell_type": "markdown",
   "metadata": {},
   "source": [
    "# Dataset, DataLoader"
   ]
  },
  {
   "cell_type": "code",
   "execution_count": 479,
   "metadata": {},
   "outputs": [
    {
     "name": "stdout",
     "output_type": "stream",
     "text": [
      "torch.Size([2000, 784]) torch.Size([2000])\n"
     ]
    }
   ],
   "source": [
    "# Dataset should support __len__ and __getitem__\n",
    "from torch.utils.data import TensorDataset\n",
    "\n",
    "train_data = TensorDataset(X_train, y_train)\n",
    "xb, yb = train_data[0:2000]\n",
    "print(xb.shape, yb.shape)"
   ]
  },
  {
   "cell_type": "code",
   "execution_count": 481,
   "metadata": {},
   "outputs": [],
   "source": [
    "# DataLoader manages batches and can be constructed from Dataset\n",
    "from torch.utils.data import DataLoader\n",
    "\n",
    "train_data = TensorDataset(X_train, y_train)\n",
    "train_dataloader = DataLoader(train_data, batch_size = bs)"
   ]
  },
  {
   "cell_type": "code",
   "execution_count": 483,
   "metadata": {},
   "outputs": [
    {
     "name": "stdout",
     "output_type": "stream",
     "text": [
      "tensor(0.0826, grad_fn=<NllLossBackward>)\n"
     ]
    }
   ],
   "source": [
    "# then we can directly loop over batches!\n",
    "\n",
    "model = model_mnist()\n",
    "opt = optim.SGD(params=model.parameters(), lr=0.5)\n",
    "\n",
    "for epoch in range(epochs):\n",
    "    for xb, yb in train_dataloader: # xb, yb are already from a batch!\n",
    "        pred = model(xb)\n",
    "        loss = loss_func(pred, yb)\n",
    "        loss.backward()\n",
    "        \n",
    "        opt.step()\n",
    "        opt.zero_grad()\n",
    "        \n",
    "print(loss_func(model(xb), yb))"
   ]
  },
  {
   "cell_type": "code",
   "execution_count": 496,
   "metadata": {},
   "outputs": [],
   "source": [
    "# now could combine with validation dataset. Need to shuffle training set, no need to shuffle validation set.\n",
    "\n",
    "train_data = TensorDataset(X_train, y_train)\n",
    "train_dataloader = DataLoader(train_data, batch_size=bs, shuffle=True)\n",
    "\n",
    "val_data = TensorDataset(X_val, y_val)\n",
    "val_dataloader = DataLoader(val_data, batch_size=2*bs) # no backprop, so large batch is fine"
   ]
  },
  {
   "cell_type": "code",
   "execution_count": 497,
   "metadata": {},
   "outputs": [
    {
     "name": "stderr",
     "output_type": "stream",
     "text": [
      "/Users/yang/miniconda3/lib/python3.7/site-packages/ipykernel_launcher.py:16: DeprecationWarning: Calling np.sum(generator) is deprecated, and in the future will give a different result. Use np.sum(np.fromiter(generator)) or the python sum builtin instead.\n",
      "  app.launch_new_instance()\n"
     ]
    },
    {
     "name": "stdout",
     "output_type": "stream",
     "text": [
      "validation_loss: tensor(0.0024)\n",
      "validation_loss: tensor(0.0027)\n"
     ]
    }
   ],
   "source": [
    "model = model_mnist()\n",
    "opt = optim.SGD(params=model.parameters(), lr=0.5)\n",
    "\n",
    "for epoch in range(epochs):\n",
    "    model.train() # ensures good behaviror for e.g. dropout, batchnorm\n",
    "    for xb, yb in train_dataloader:\n",
    "        pred = model(xb)\n",
    "        loss = loss_func(pred, yb)\n",
    "        \n",
    "        loss.backward()\n",
    "        opt.step()\n",
    "        opt.zero_grad()\n",
    "\n",
    "    model.eval() # ensures good behaviror for e.g. dropout, batchnorm\n",
    "    with torch.no_grad():\n",
    "        validation_loss = np.sum(loss_func(model(xb), yb.type(torch.LongTensor)) for xb, yb in val_dataloader)\n",
    "    print('validation_loss: ' + str(validation_loss/len(val_data)))"
   ]
  },
  {
   "cell_type": "markdown",
   "metadata": {},
   "source": [
    "# 3. Full PyTorch style!"
   ]
  },
  {
   "cell_type": "code",
   "execution_count": 18,
   "metadata": {},
   "outputs": [],
   "source": [
    "import torch\n",
    "from torch import nn, optim\n",
    "from torch.functional import F\n",
    "from torch.utils.data import DataLoader, Dataset\n",
    "from torchvision import datasets # this module has existing vision data, e.g. MNIST, CIFAR10, etc\n",
    "from torchvision.transforms import ToTensor"
   ]
  },
  {
   "cell_type": "code",
   "execution_count": 8,
   "metadata": {},
   "outputs": [],
   "source": [
    "# read MNIST datasets from torchvision\n",
    "data_train = datasets.EMNIST(root='data', download=True, train=True, split='mnist', transform=ToTensor())\n",
    "data_val = datasets.EMNIST(root='data', download=True, train=False, split='mnist', transform=ToTensor())\n",
    "data_test = datasets.EMNIST(root='data', download=True, train=False, split='mnist', transform=ToTensor())"
   ]
  },
  {
   "cell_type": "code",
   "execution_count": 9,
   "metadata": {},
   "outputs": [],
   "source": [
    "# load the datasets with dataloader\n",
    "batch_size = 64\n",
    "dataloader_train = DataLoader(data_train, batch_size=batch_size, shuffle=True) # if shuffle, the sample will be differnet for each iteration!\n",
    "dataloader_val = DataLoader(data_val, batch_size=batch_size, shuffle=False)\n",
    "dataloader_test = DataLoader(data_test, batch_size=batch_size, shuffle=False)"
   ]
  },
  {
   "cell_type": "code",
   "execution_count": 17,
   "metadata": {},
   "outputs": [
    {
     "name": "stdout",
     "output_type": "stream",
     "text": [
      "dimension of X: torch.Size([64, 1, 28, 28])\n"
     ]
    },
    {
     "data": {
      "image/png": "[encoded data removed]",
      "text/plain": [
       "<Figure size 432x288 with 1 Axes>"
      ]
     },
     "metadata": {
      "image/png": {
       "height": 267,
       "width": 254
      }
     },
     "output_type": "display_data"
    }
   ],
   "source": [
    "# obtain one batch and visualize the first element\n",
    "# dimension of X: (batch_size, n_channel, height, width), where 1 is the chanel. \n",
    "for X, y in dataloader_train:\n",
    "    print('dimension of X: ' + str(X.shape))\n",
    "    plt.imshow(X[0][0,:,:].T)\n",
    "    plt.title('label: ' + str(np.array(y[0])))\n",
    "    break"
   ]
  },
  {
   "cell_type": "code",
   "execution_count": 24,
   "metadata": {},
   "outputs": [],
   "source": [
    "class model_cnn(nn.Module):\n",
    "    def __init__(self):\n",
    "        super().__init__()\n",
    "        self.conv1 = nn.Conv2d(1, 16, kernel_size=3, stride=2, padding=1) # in_channel, out_channel\n",
    "        self.conv2 = nn.Conv2d(16, 16, kernel_size=3, stride=2, padding=1)\n",
    "        self.conv3 = nn.Conv2d(16, 10, kernel_size=3, stride=2, padding=1)\n",
    "\n",
    "    def forward(self, x):\n",
    "        x = x.view(-1, 1, 28, 28) # the first dimension (batch size) is inferred\n",
    "        x = F.relu(self.conv1(x))\n",
    "        x = F.relu(self.conv2(x))\n",
    "        x = F.relu(self.conv3(x))\n",
    "        x = F.avg_pool2d(x, 4)\n",
    "        return x.view(-1, x.size(1))"
   ]
  },
  {
   "cell_type": "code",
   "execution_count": 28,
   "metadata": {},
   "outputs": [],
   "source": [
    "lr = 0.1\n",
    "epochs = 2\n",
    "\n",
    "model = model_cnn()\n",
    "opt = optim.SGD(model.parameters(), lr=lr, momentum=0.9)\n",
    "loss_func = F.cross_entropy"
   ]
  },
  {
   "cell_type": "code",
   "execution_count": 32,
   "metadata": {},
   "outputs": [
    {
     "name": "stderr",
     "output_type": "stream",
     "text": [
      "/Users/yang/miniconda3/lib/python3.7/site-packages/ipykernel_launcher.py:13: DeprecationWarning: Calling np.sum(generator) is deprecated, and in the future will give a different result. Use np.sum(np.fromiter(generator)) or the python sum builtin instead.\n",
      "  del sys.path[0]\n"
     ]
    },
    {
     "name": "stdout",
     "output_type": "stream",
     "text": [
      "0 tensor(0.0025, grad_fn=<DivBackward0>)\n",
      "1 tensor(0.0023, grad_fn=<DivBackward0>)\n"
     ]
    }
   ],
   "source": [
    "for epoch in range(epochs):\n",
    "    model.train()\n",
    "    for xb, yb in dataloader_train:\n",
    "        pred = model(xb)\n",
    "        loss = loss_func(pred, yb)\n",
    "        \n",
    "        opt.zero_grad()\n",
    "        loss.backward()\n",
    "        \n",
    "        opt.step()\n",
    "        \n",
    "    model.eval()\n",
    "    val_score = np.sum(loss_func(model(xb), yb) for xb, yb in dataloader_val) / len(data_val)\n",
    "    print(epoch, val_score)"
   ]
  },
  {
   "cell_type": "code",
   "execution_count": null,
   "metadata": {},
   "outputs": [],
   "source": []
  }
 ],
 "metadata": {
  "kernelspec": {
   "display_name": "Python 3",
   "language": "python",
   "name": "python3"
  },
  "language_info": {
   "codemirror_mode": {
    "name": "ipython",
    "version": 3
   },
   "file_extension": ".py",
   "mimetype": "text/x-python",
   "name": "python",
   "nbconvert_exporter": "python",
   "pygments_lexer": "ipython3",
   "version": "3.7.1"
  }
 },
 "nbformat": 4,
 "nbformat_minor": 2
}
